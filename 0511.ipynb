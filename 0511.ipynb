{
  "nbformat": 4,
  "nbformat_minor": 0,
  "metadata": {
    "colab": {
      "name": "0511.ipynb",
      "provenance": [],
      "authorship_tag": "ABX9TyNCMQ9NhTSdCeYkoOOI9a18",
      "include_colab_link": true
    },
    "kernelspec": {
      "name": "python3",
      "display_name": "Python 3"
    },
    "language_info": {
      "name": "python"
    }
  },
  "cells": [
    {
      "cell_type": "markdown",
      "metadata": {
        "id": "view-in-github",
        "colab_type": "text"
      },
      "source": [
        "<a href=\"https://colab.research.google.com/github/Wei-iiL/Introduction-to-Competers/blob/main/0511.ipynb\" target=\"_parent\"><img src=\"https://colab.research.google.com/assets/colab-badge.svg\" alt=\"Open In Colab\"/></a>"
      ]
    },
    {
      "cell_type": "code",
      "execution_count": 1,
      "metadata": {
        "colab": {
          "base_uri": "https://localhost:8080/"
        },
        "id": "DqLdAf8whbAl",
        "outputId": "608ce738-c379-46b9-a0b6-007ea0984cac"
      },
      "outputs": [
        {
          "output_type": "stream",
          "name": "stdout",
          "text": [
            "test\n"
          ]
        }
      ],
      "source": [
        "print(\"test\")"
      ]
    },
    {
      "cell_type": "code",
      "source": [
        "temp = float(input(\"請輸入你的體溫\"))\n",
        "if temp >= 37.5:\n",
        "    print(\"體溫過高!\")\n",
        "elif temp >= 37 and temp < 37.4:\n",
        "    print(\"體溫略高!\")\n",
        "elif temp >= 34 and temp < 36.9:\n",
        "    print(\"體溫正常!\")\n",
        "else:\n",
        "    print(\"體溫異常,請重新量測!\")                   "
      ],
      "metadata": {
        "colab": {
          "base_uri": "https://localhost:8080/"
        },
        "id": "JvB59cnuiI-j",
        "outputId": "eec1bb8e-6de3-40a9-d34f-caabb5a12243"
      },
      "execution_count": 5,
      "outputs": [
        {
          "output_type": "stream",
          "name": "stdout",
          "text": [
            "請輸入你的體溫37.5\n",
            "體溫過高!\n"
          ]
        }
      ]
    },
    {
      "cell_type": "code",
      "source": [
        "money = int(input(\"請輸入購物金額:\"))\n",
        "if (money >= 10000):\n",
        "    if(money >= 100000):\n",
        "     print(\"八折\",money * 0.8,end = \"元\\n\")\n",
        "    elif(money >= 50000):\n",
        "     print(\"八五折\",money * 0.85,end = \"元\\n\")\n",
        "    elif(money >= 30000):\n",
        "     print(\"九折\",money * 0.9,end = \"元\\n\")\n",
        "    else:\n",
        "     print(\"九五折\",money * 0.95,end = \"元\\n\")                                 \n",
        "else:\n",
        "    print(\"沒打折\",money,end = \"元\\n\")              "
      ],
      "metadata": {
        "colab": {
          "base_uri": "https://localhost:8080/"
        },
        "id": "lvZxl5kJltpI",
        "outputId": "3cd1a1a5-f949-48ae-c970-b8ccc58226e7"
      },
      "execution_count": 19,
      "outputs": [
        {
          "output_type": "stream",
          "name": "stdout",
          "text": [
            "請輸入購物金額:100\n",
            "沒打折 100元\n"
          ]
        }
      ]
    },
    {
      "cell_type": "code",
      "source": [
        "money = int(input(\"請輸入購物金額:\"))\n",
        "if (money >= 10000):\n",
        "    if(money >= 100000):\n",
        "     print(\"八折\",money * 0.8,end = \"元\\n\")\n",
        "    elif(money >= 50000):\n",
        "     print(\"八五折\",money * 0.85,end = \"元\\n\")\n",
        "    elif(money >= 30000):\n",
        "     print(\"九折\",money * 0.9,end = \"元\\n\")\n",
        "    else:\n",
        "     print(\"九五折\",money * 0.95,end = \"元\\n\")                                 \n",
        "else:\n",
        "    print(\"沒打折\",money,end = \"元\\n\")              "
      ],
      "metadata": {
        "colab": {
          "base_uri": "https://localhost:8080/"
        },
        "id": "5ufzJqpWDxyE",
        "outputId": "151907ea-dead-4a41-dcb1-0a843d43a7aa"
      },
      "execution_count": 20,
      "outputs": [
        {
          "output_type": "stream",
          "name": "stdout",
          "text": [
            "請輸入購物金額:100000\n",
            "八折 80000.0元\n"
          ]
        }
      ]
    },
    {
      "cell_type": "code",
      "source": [
        "test = int(input(\"請輸入成績\"))\n",
        "if (test >= 90):\n",
        "    print(\"A\")\n",
        "elif (test >= 80):\n",
        "    print(\"B\")\n",
        "elif (test >= 70):\n",
        "    print(\"C\")\n",
        "elif (test >= 60):\n",
        "    print(\"D\")\n",
        "elif (test < 60):\n",
        "    print(\"E\")                          "
      ],
      "metadata": {
        "colab": {
          "base_uri": "https://localhost:8080/"
        },
        "id": "BCgnmYIV8r8s",
        "outputId": "23ab4212-773a-45a3-8b43-c999918fb3e2"
      },
      "execution_count": 23,
      "outputs": [
        {
          "output_type": "stream",
          "name": "stdout",
          "text": [
            "請輸入成績90\n",
            "A\n"
          ]
        }
      ]
    },
    {
      "cell_type": "code",
      "source": [
        "test = int(input(\"請輸入成績\"))\n",
        "if (test >= 90):\n",
        "    print(\"A\")\n",
        "elif (test >= 80):\n",
        "    print(\"B\")\n",
        "elif (test >= 70):\n",
        "    print(\"C\")\n",
        "elif (test >= 60):\n",
        "    print(\"D\")\n",
        "elif (test < 60):\n",
        "    print(\"E\")      "
      ],
      "metadata": {
        "colab": {
          "base_uri": "https://localhost:8080/"
        },
        "id": "J2HoiPphAbAv",
        "outputId": "9d691ec7-83cb-4ad6-e914-68f68b0ef053"
      },
      "execution_count": 22,
      "outputs": [
        {
          "output_type": "stream",
          "name": "stdout",
          "text": [
            "請輸入成績80\n",
            "B\n"
          ]
        }
      ]
    },
    {
      "cell_type": "code",
      "source": [
        "test = int(input(\"請輸入成績\"))\n",
        "if (test >= 90):\n",
        "    print(\"A\")\n",
        "elif (test >= 80):\n",
        "    print(\"B\")\n",
        "elif (test >= 70):\n",
        "    print(\"C\")\n",
        "elif (test >= 60):\n",
        "    print(\"D\")\n",
        "elif (test < 60):\n",
        "    print(\"E\")      "
      ],
      "metadata": {
        "colab": {
          "base_uri": "https://localhost:8080/"
        },
        "id": "rjWuhpU0AahU",
        "outputId": "4a26b95c-f6ad-4cc7-ede3-676a9034ebf8"
      },
      "execution_count": 21,
      "outputs": [
        {
          "output_type": "stream",
          "name": "stdout",
          "text": [
            "請輸入成績50\n",
            "E\n"
          ]
        }
      ]
    },
    {
      "cell_type": "code",
      "source": [
        "season = int(input(\"請輸入月份:\"))\n",
        "if (season == 3 or season == 4 or season == 5):\n",
        "    print(season ,\"月是春天!\", sep = \"\")\n",
        "elif (season == 6 or season == 7 or season == 8):\n",
        "    print(season ,\"月是夏天!\", sep = \"\")\n",
        "elif (season == 9 or season == 10 or season == 11):\n",
        "    print(season ,\"月是秋天!\", sep = \"\")\n",
        "elif (season == 12 or season == 1 or season == 2):\n",
        "    print(season ,\"月是冬天!\", sep = \"\")\n",
        "else:\n",
        "    print(\"月份不在範圍內!\")                          "
      ],
      "metadata": {
        "colab": {
          "base_uri": "https://localhost:8080/"
        },
        "id": "tNR-Apkbn5wj",
        "outputId": "48b97372-912f-491c-f135-a07905475bbe"
      },
      "execution_count": 9,
      "outputs": [
        {
          "output_type": "stream",
          "name": "stdout",
          "text": [
            "請輸入月份:3\n",
            "3月是春天!\n"
          ]
        }
      ]
    },
    {
      "cell_type": "code",
      "source": [
        "earn = int(input(\"請輸入今年收入淨額:\"))\n",
        "if (earn >= 2000000):\n",
        "    print(\"付稅金額\", earn * 0.3, \"元\", sep = \"\")\n",
        "elif (earn >= 1000000):\n",
        "    print(\"付稅金額\", earn * 0.21, \"元\", sep = \"\")\n",
        "elif (earn >= 600000):\n",
        "    print(\"付稅金額\", earn * 0.13, \"元\", sep = \"\")\n",
        "elif (earn >= 300000):\n",
        "    print(\"付稅金額\", earn * 0.06, \"元\", sep = \"\")\n",
        "else:\n",
        "    print(\"付稅金額\", earn * 0, \"元\", sep = \"\")                           "
      ],
      "metadata": {
        "colab": {
          "base_uri": "https://localhost:8080/"
        },
        "id": "CgBHcTrN6s6m",
        "outputId": "e4860495-ca5e-48e8-af1e-3da2bb0692c3"
      },
      "execution_count": 17,
      "outputs": [
        {
          "output_type": "stream",
          "name": "stdout",
          "text": [
            "請輸入今年收入淨額:100000\n",
            "付稅金額0元\n"
          ]
        }
      ]
    },
    {
      "cell_type": "code",
      "source": [
        "earn = int(input(\"請輸入今年收入淨額:\"))\n",
        "if (earn >= 2000000):\n",
        "    print(\"付稅金額\", earn * 0.3, \"元\", sep = \"\")\n",
        "elif (earn >= 1000000):\n",
        "    print(\"付稅金額\", earn * 0.21, \"元\", sep = \"\")\n",
        "elif (earn >= 600000):\n",
        "    print(\"付稅金額\", earn * 0.13, \"元\", sep = \"\")\n",
        "elif (earn >= 300000):\n",
        "    print(\"付稅金額\", earn * 0.06, \"元\", sep = \"\")\n",
        "else:\n",
        "    print(\"付稅金額\", earn * 0, \"元\", sep = \"\")                           "
      ],
      "metadata": {
        "colab": {
          "base_uri": "https://localhost:8080/"
        },
        "id": "UXmXITHTAxs7",
        "outputId": "d76875d6-1772-43fc-86b0-cb7771dd81b0"
      },
      "execution_count": 16,
      "outputs": [
        {
          "output_type": "stream",
          "name": "stdout",
          "text": [
            "請輸入今年收入淨額:2000000\n",
            "付稅金額600000.0元\n"
          ]
        }
      ]
    }
  ]
}