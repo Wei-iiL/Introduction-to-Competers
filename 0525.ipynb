{
  "nbformat": 4,
  "nbformat_minor": 0,
  "metadata": {
    "colab": {
      "name": "0525.ipynb",
      "provenance": [],
      "authorship_tag": "ABX9TyNGwQaU5QjKd0ZKgxqqauyp",
      "include_colab_link": true
    },
    "kernelspec": {
      "name": "python3",
      "display_name": "Python 3"
    },
    "language_info": {
      "name": "python"
    }
  },
  "cells": [
    {
      "cell_type": "markdown",
      "metadata": {
        "id": "view-in-github",
        "colab_type": "text"
      },
      "source": [
        "<a href=\"https://colab.research.google.com/github/Wei-iiL/Introduction-to-Competers/blob/main/0525.ipynb\" target=\"_parent\"><img src=\"https://colab.research.google.com/assets/colab-badge.svg\" alt=\"Open In Colab\"/></a>"
      ]
    },
    {
      "cell_type": "code",
      "execution_count": 1,
      "metadata": {
        "colab": {
          "base_uri": "https://localhost:8080/"
        },
        "id": "hlTZ1JDpkH9t",
        "outputId": "8f1a6efd-1801-4745-fac6-ccd7747b2024"
      },
      "outputs": [
        {
          "output_type": "stream",
          "name": "stdout",
          "text": [
            "test\n"
          ]
        }
      ],
      "source": [
        "print('test')"
      ]
    },
    {
      "cell_type": "code",
      "source": [
        "sum = 0\n",
        "test = int(input(\"請輸入一個正整數:\"))\n",
        "for n in range(1,test+1):\n",
        "    sum = sum+n\n",
        "print(\"1到\",test,\"的整數和為\",sum)  "
      ],
      "metadata": {
        "colab": {
          "base_uri": "https://localhost:8080/"
        },
        "id": "AMtKGoF380cD",
        "outputId": "7aa9eac7-d599-42e3-b409-5cf190b5f19c"
      },
      "execution_count": 53,
      "outputs": [
        {
          "output_type": "stream",
          "name": "stdout",
          "text": [
            "請輸入一個正整數:10\n",
            "1到 10 的整數和為 55\n"
          ]
        }
      ]
    },
    {
      "cell_type": "code",
      "source": [
        "sum = 0\n",
        "test = int(input(\"請輸入一個正整數:\"))\n",
        "for n in range(1,test+1):\n",
        "    sum = sum+n\n",
        "print(\"1到\",test,\"的整數和為\",sum)      "
      ],
      "metadata": {
        "colab": {
          "base_uri": "https://localhost:8080/"
        },
        "id": "PmucoM3skUP-",
        "outputId": "477bb9d4-db94-4e0f-97c0-fe56d719f8d5"
      },
      "execution_count": 2,
      "outputs": [
        {
          "output_type": "stream",
          "name": "stdout",
          "text": [
            "請輸入一個正整數:50\n",
            "1到 50 的整數和為 1275\n"
          ]
        }
      ]
    },
    {
      "cell_type": "code",
      "source": [
        "sum = 0\n",
        "test = int(input(\"請輸入一個正整數:\"))\n",
        "for m in range(1,test+1):\n",
        "    sum = sum+m\n",
        "    print(\"1到\",str(m),\"的整數和為:\",sum)      "
      ],
      "metadata": {
        "colab": {
          "base_uri": "https://localhost:8080/"
        },
        "id": "a1V57G4Qk0Xe",
        "outputId": "b765f384-7bc4-4bb1-9124-8d359ded1354"
      },
      "execution_count": 4,
      "outputs": [
        {
          "output_type": "stream",
          "name": "stdout",
          "text": [
            "請輸入一個正整數:50\n",
            "1到 1 的整數和為: 1\n",
            "1到 2 的整數和為: 3\n",
            "1到 3 的整數和為: 6\n",
            "1到 4 的整數和為: 10\n",
            "1到 5 的整數和為: 15\n",
            "1到 6 的整數和為: 21\n",
            "1到 7 的整數和為: 28\n",
            "1到 8 的整數和為: 36\n",
            "1到 9 的整數和為: 45\n",
            "1到 10 的整數和為: 55\n",
            "1到 11 的整數和為: 66\n",
            "1到 12 的整數和為: 78\n",
            "1到 13 的整數和為: 91\n",
            "1到 14 的整數和為: 105\n",
            "1到 15 的整數和為: 120\n",
            "1到 16 的整數和為: 136\n",
            "1到 17 的整數和為: 153\n",
            "1到 18 的整數和為: 171\n",
            "1到 19 的整數和為: 190\n",
            "1到 20 的整數和為: 210\n",
            "1到 21 的整數和為: 231\n",
            "1到 22 的整數和為: 253\n",
            "1到 23 的整數和為: 276\n",
            "1到 24 的整數和為: 300\n",
            "1到 25 的整數和為: 325\n",
            "1到 26 的整數和為: 351\n",
            "1到 27 的整數和為: 378\n",
            "1到 28 的整數和為: 406\n",
            "1到 29 的整數和為: 435\n",
            "1到 30 的整數和為: 465\n",
            "1到 31 的整數和為: 496\n",
            "1到 32 的整數和為: 528\n",
            "1到 33 的整數和為: 561\n",
            "1到 34 的整數和為: 595\n",
            "1到 35 的整數和為: 630\n",
            "1到 36 的整數和為: 666\n",
            "1到 37 的整數和為: 703\n",
            "1到 38 的整數和為: 741\n",
            "1到 39 的整數和為: 780\n",
            "1到 40 的整數和為: 820\n",
            "1到 41 的整數和為: 861\n",
            "1到 42 的整數和為: 903\n",
            "1到 43 的整數和為: 946\n",
            "1到 44 的整數和為: 990\n",
            "1到 45 的整數和為: 1035\n",
            "1到 46 的整數和為: 1081\n",
            "1到 47 的整數和為: 1128\n",
            "1到 48 的整數和為: 1176\n",
            "1到 49 的整數和為: 1225\n",
            "1到 50 的整數和為: 1275\n"
          ]
        }
      ]
    },
    {
      "cell_type": "code",
      "source": [
        "for j in range(1,5):\n",
        "  print(j)\n",
        "  for i in range(1,3):\n",
        "    k = i*j\n",
        "    print(j,\"*\",i,\"=\",k)                 "
      ],
      "metadata": {
        "colab": {
          "base_uri": "https://localhost:8080/"
        },
        "id": "__Nc2afFlS-S",
        "outputId": "646e1943-bee6-445c-99a5-664c4f0a442b"
      },
      "execution_count": 5,
      "outputs": [
        {
          "output_type": "stream",
          "name": "stdout",
          "text": [
            "1\n",
            "1 * 1 = 1\n",
            "1 * 2 = 2\n",
            "2\n",
            "2 * 1 = 2\n",
            "2 * 2 = 4\n",
            "3\n",
            "3 * 1 = 3\n",
            "3 * 2 = 6\n",
            "4\n",
            "4 * 1 = 4\n",
            "4 * 2 = 8\n"
          ]
        }
      ]
    },
    {
      "cell_type": "code",
      "source": [
        "for j in range(1,6):\n",
        "  print(j)\n",
        "  for i in range(1,3):\n",
        "    k = i*j\n",
        "    print(j,\"*\",i,\"=\",k)            "
      ],
      "metadata": {
        "colab": {
          "base_uri": "https://localhost:8080/"
        },
        "id": "KfVdI98VnVVH",
        "outputId": "468dd661-5e81-4f30-d5e2-bed3fb22ba1c"
      },
      "execution_count": 6,
      "outputs": [
        {
          "output_type": "stream",
          "name": "stdout",
          "text": [
            "1\n",
            "1 * 1 = 1\n",
            "1 * 2 = 2\n",
            "2\n",
            "2 * 1 = 2\n",
            "2 * 2 = 4\n",
            "3\n",
            "3 * 1 = 3\n",
            "3 * 2 = 6\n",
            "4\n",
            "4 * 1 = 4\n",
            "4 * 2 = 8\n",
            "5\n",
            "5 * 1 = 5\n",
            "5 * 2 = 10\n"
          ]
        }
      ]
    },
    {
      "cell_type": "code",
      "source": [
        "for i in range(1,5):\n",
        "  if(i==4):\n",
        "    break\n",
        "  print(i,end = \" \")                  "
      ],
      "metadata": {
        "colab": {
          "base_uri": "https://localhost:8080/"
        },
        "id": "NKXxUqlnoqgC",
        "outputId": "05526969-cacd-4cc1-ae82-bf6370967e4e"
      },
      "execution_count": 46,
      "outputs": [
        {
          "output_type": "stream",
          "name": "stdout",
          "text": [
            "1 2 3 "
          ]
        }
      ]
    },
    {
      "cell_type": "code",
      "source": [
        "for i in range(1,5):\n",
        "  if(i == 4):\n",
        "    continue\n",
        "  print(i,end = \" \")          "
      ],
      "metadata": {
        "colab": {
          "base_uri": "https://localhost:8080/"
        },
        "id": "kTzOfh0d5h3j",
        "outputId": "6e33e94e-a854-44d5-8a4b-149a3c629579"
      },
      "execution_count": 45,
      "outputs": [
        {
          "output_type": "stream",
          "name": "stdout",
          "text": [
            "1 2 3 "
          ]
        }
      ]
    },
    {
      "cell_type": "code",
      "source": [
        "count = 0\n",
        "for string in \"hello!\":\n",
        "  count+=1\n",
        "  if string == \"o\":\n",
        "    break\n",
        "  print(string)  \n",
        "print(\"迴圈結束\")\n",
        "print(\"迴圈執行了 %d 次\" %count)              "
      ],
      "metadata": {
        "colab": {
          "base_uri": "https://localhost:8080/"
        },
        "id": "_veIyMcHpum1",
        "outputId": "de816a47-0751-4f91-b812-8f8c17391bca"
      },
      "execution_count": 11,
      "outputs": [
        {
          "output_type": "stream",
          "name": "stdout",
          "text": [
            "h\n",
            "e\n",
            "l\n",
            "l\n",
            "迴圈結束\n",
            "迴圈執行了 5 次\n"
          ]
        }
      ]
    },
    {
      "cell_type": "code",
      "source": [
        "count = 0\n",
        "for string in \"測試看看\":\n",
        "  count+=1\n",
        "  if string == \"看\":\n",
        "    break\n",
        "  print(string)\n",
        "print(\"迴圈結束\")\n",
        "print(\"迴圈執行了 %d 次\" %count)  "
      ],
      "metadata": {
        "colab": {
          "base_uri": "https://localhost:8080/"
        },
        "id": "4sJBf69kq0lP",
        "outputId": "49c8259b-164d-48c9-b0c5-b71019edc1a0"
      },
      "execution_count": 12,
      "outputs": [
        {
          "output_type": "stream",
          "name": "stdout",
          "text": [
            "測\n",
            "試\n",
            "迴圈結束\n",
            "迴圈執行了 3 次\n"
          ]
        }
      ]
    },
    {
      "cell_type": "code",
      "source": [
        "for j in range(2,10):\n",
        "  for i in range(1,10):\n",
        "    k = i*j\n",
        "    print(j,\"*\",i,\"=\",k,\"\\t\",end = \" \")\n",
        "  print(\" \")                "
      ],
      "metadata": {
        "colab": {
          "base_uri": "https://localhost:8080/"
        },
        "id": "vpyhgQGkscWY",
        "outputId": "63d54f7c-6593-4d1e-8c73-15d095de2e9b"
      },
      "execution_count": 55,
      "outputs": [
        {
          "output_type": "stream",
          "name": "stdout",
          "text": [
            "2 * 1 = 2 \t 2 * 2 = 4 \t 2 * 3 = 6 \t 2 * 4 = 8 \t 2 * 5 = 10 \t 2 * 6 = 12 \t 2 * 7 = 14 \t 2 * 8 = 16 \t 2 * 9 = 18 \t  \n",
            "3 * 1 = 3 \t 3 * 2 = 6 \t 3 * 3 = 9 \t 3 * 4 = 12 \t 3 * 5 = 15 \t 3 * 6 = 18 \t 3 * 7 = 21 \t 3 * 8 = 24 \t 3 * 9 = 27 \t  \n",
            "4 * 1 = 4 \t 4 * 2 = 8 \t 4 * 3 = 12 \t 4 * 4 = 16 \t 4 * 5 = 20 \t 4 * 6 = 24 \t 4 * 7 = 28 \t 4 * 8 = 32 \t 4 * 9 = 36 \t  \n",
            "5 * 1 = 5 \t 5 * 2 = 10 \t 5 * 3 = 15 \t 5 * 4 = 20 \t 5 * 5 = 25 \t 5 * 6 = 30 \t 5 * 7 = 35 \t 5 * 8 = 40 \t 5 * 9 = 45 \t  \n",
            "6 * 1 = 6 \t 6 * 2 = 12 \t 6 * 3 = 18 \t 6 * 4 = 24 \t 6 * 5 = 30 \t 6 * 6 = 36 \t 6 * 7 = 42 \t 6 * 8 = 48 \t 6 * 9 = 54 \t  \n",
            "7 * 1 = 7 \t 7 * 2 = 14 \t 7 * 3 = 21 \t 7 * 4 = 28 \t 7 * 5 = 35 \t 7 * 6 = 42 \t 7 * 7 = 49 \t 7 * 8 = 56 \t 7 * 9 = 63 \t  \n",
            "8 * 1 = 8 \t 8 * 2 = 16 \t 8 * 3 = 24 \t 8 * 4 = 32 \t 8 * 5 = 40 \t 8 * 6 = 48 \t 8 * 7 = 56 \t 8 * 8 = 64 \t 8 * 9 = 72 \t  \n",
            "9 * 1 = 9 \t 9 * 2 = 18 \t 9 * 3 = 27 \t 9 * 4 = 36 \t 9 * 5 = 45 \t 9 * 6 = 54 \t 9 * 7 = 63 \t 9 * 8 = 72 \t 9 * 9 = 81 \t  \n"
          ]
        }
      ]
    },
    {
      "cell_type": "code",
      "source": [
        "a = int(input(\"請輸入a的值:\"))\n",
        "b = int(input(\"請輸入b的值:\"))\n",
        "for i in range(1,(a*b)+1):\n",
        "  if(i%a == 0 and i%b == 0):\n",
        "    break\n",
        "print(\"4 和 6 的最小公倍數=%d \" %(i))        "
      ],
      "metadata": {
        "colab": {
          "base_uri": "https://localhost:8080/"
        },
        "id": "tpJ-_u-kuUFu",
        "outputId": "5df4c440-6f34-4687-d28a-2b69798b130a"
      },
      "execution_count": 43,
      "outputs": [
        {
          "output_type": "stream",
          "name": "stdout",
          "text": [
            "請輸入a的值:4\n",
            "請輸入b的值:6\n",
            "4 和 6 的最小公倍數=12 \n"
          ]
        }
      ]
    },
    {
      "cell_type": "code",
      "source": [
        "a = int(input(\"請輸入a的值:\"))\n",
        "b = int(input(\"請輸入b的值:\"))\n",
        "for j in range(1,(a*b)+1):\n",
        "  if(j%a == 0 and j%b == 0):\n",
        "    break\n",
        "print(\"4 和 6 的最小公倍數=%d\" %(j))          "
      ],
      "metadata": {
        "colab": {
          "base_uri": "https://localhost:8080/"
        },
        "id": "jNMLMkSQ2TAr",
        "outputId": "c4048785-78e5-4524-b58e-fc314ef6cb87"
      },
      "execution_count": 44,
      "outputs": [
        {
          "output_type": "stream",
          "name": "stdout",
          "text": [
            "請輸入a的值:9\n",
            "請輸入b的值:15\n",
            "4 和 6 的最小公倍數=45\n"
          ]
        }
      ]
    },
    {
      "cell_type": "code",
      "source": [
        "c = int(input(\"請輸入正整數:\"))\n",
        "for f in range(1,c+1):\n",
        "  if(f%5 == 0):\n",
        "    continue\n",
        "  print(f,end = \" \")          "
      ],
      "metadata": {
        "colab": {
          "base_uri": "https://localhost:8080/"
        },
        "id": "msiWXFl43v8t",
        "outputId": "697588c7-925f-48cb-dd9b-997b5fd7d8d8"
      },
      "execution_count": 51,
      "outputs": [
        {
          "output_type": "stream",
          "name": "stdout",
          "text": [
            "請輸入正整數:12\n",
            "1 2 3 4 6 7 8 9 11 12 "
          ]
        }
      ]
    },
    {
      "cell_type": "code",
      "source": [
        "d = int(input(\"請輸入正整數:\"))\n",
        "for j in range(1,a+1):\n",
        "  if(j%5 == 0):\n",
        "    continue\n",
        "  print(j,end = \" \")          "
      ],
      "metadata": {
        "colab": {
          "base_uri": "https://localhost:8080/"
        },
        "id": "_DhNMrgD6ZR1",
        "outputId": "66b2bd37-1266-4879-d14c-241ff43dcace"
      },
      "execution_count": 52,
      "outputs": [
        {
          "output_type": "stream",
          "name": "stdout",
          "text": [
            "請輸入正整數:21\n",
            "1 2 3 4 6 7 8 9 11 12 13 14 16 17 18 19 21 "
          ]
        }
      ]
    },
    {
      "cell_type": "code",
      "source": [
        ""
      ],
      "metadata": {
        "id": "FqIkEvrb7AZm"
      },
      "execution_count": null,
      "outputs": []
    }
  ]
}